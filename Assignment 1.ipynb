{
  "nbformat": 4,
  "nbformat_minor": 0,
  "metadata": {
    "colab": {
      "name": "Python Assignment 1.ipynb",
      "provenance": []
    },
    "kernelspec": {
      "name": "python3",
      "display_name": "Python 3"
    },
    "language_info": {
      "name": "python"
    }
  },
  "cells": [
    {
      "cell_type": "markdown",
      "metadata": {
        "id": "PmK1-sas8YKb"
      },
      "source": [
        "1. Write a program which will find all such numbers which are divisible by 7 but are not a multiple of 5, between 2000 and 3200 (both included). The numbers obtained should be printed in a comma-separated sequence on a single line."
      ]
    },
    {
      "cell_type": "code",
      "metadata": {
        "colab": {
          "base_uri": "https://localhost:8080/"
        },
        "id": "mj9ydC1Z8T4D",
        "outputId": "32d1f18b-db55-4254-9e9f-8a02cb30f432"
      },
      "source": [
        "num = [i for i in range(2000, 3201) if i % 7 == 0 if i % 5 != 0] \n",
        "print(num)"
      ],
      "execution_count": null,
      "outputs": [
        {
          "output_type": "stream",
          "text": [
            "[2002, 2009, 2016, 2023, 2037, 2044, 2051, 2058, 2072, 2079, 2086, 2093, 2107, 2114, 2121, 2128, 2142, 2149, 2156, 2163, 2177, 2184, 2191, 2198, 2212, 2219, 2226, 2233, 2247, 2254, 2261, 2268, 2282, 2289, 2296, 2303, 2317, 2324, 2331, 2338, 2352, 2359, 2366, 2373, 2387, 2394, 2401, 2408, 2422, 2429, 2436, 2443, 2457, 2464, 2471, 2478, 2492, 2499, 2506, 2513, 2527, 2534, 2541, 2548, 2562, 2569, 2576, 2583, 2597, 2604, 2611, 2618, 2632, 2639, 2646, 2653, 2667, 2674, 2681, 2688, 2702, 2709, 2716, 2723, 2737, 2744, 2751, 2758, 2772, 2779, 2786, 2793, 2807, 2814, 2821, 2828, 2842, 2849, 2856, 2863, 2877, 2884, 2891, 2898, 2912, 2919, 2926, 2933, 2947, 2954, 2961, 2968, 2982, 2989, 2996, 3003, 3017, 3024, 3031, 3038, 3052, 3059, 3066, 3073, 3087, 3094, 3101, 3108, 3122, 3129, 3136, 3143, 3157, 3164, 3171, 3178, 3192, 3199]\n"
          ],
          "name": "stdout"
        }
      ]
    },
    {
      "cell_type": "markdown",
      "metadata": {
        "id": "2LbI3kUs923_"
      },
      "source": [
        "2. Write a Python program to accept the user's first and last name and then getting them printed in the the reverse order with a space between first name and last name."
      ]
    },
    {
      "cell_type": "code",
      "metadata": {
        "colab": {
          "base_uri": "https://localhost:8080/"
        },
        "id": "VQr0Ho1u-BZD",
        "outputId": "92ed4f09-67c9-41e2-de08-d601d81f6da9"
      },
      "source": [
        "first_name = input(\"Input your First Name : \")\n",
        "last_name = input(\"Input your Last Name : \")\n",
        "print (last_name,\" \",first_name)"
      ],
      "execution_count": null,
      "outputs": [
        {
          "output_type": "stream",
          "text": [
            "Input your First Name : Anshul\n",
            "Input your Last Name : Upadhyay\n",
            "Upadhyay   Anshul\n"
          ],
          "name": "stdout"
        }
      ]
    },
    {
      "cell_type": "markdown",
      "metadata": {
        "id": "WkXqOtf28J-b"
      },
      "source": [
        "3. Write a Python program to find the volume of a sphere with diameter 12 cm."
      ]
    },
    {
      "cell_type": "code",
      "metadata": {
        "colab": {
          "base_uri": "https://localhost:8080/"
        },
        "id": "eVjc55ng_PvA",
        "outputId": "b15a485d-eb9b-4604-d221-8d04361dd310"
      },
      "source": [
        "#Diameter is 12cm so, the radius will be 6cm\n",
        "\n",
        "#impotr math package to use math.pi for the value of PI \n",
        "import math\n",
        "#take radius of the   sphere from user\n",
        "r=float(input(\"Enter the r of a sphere\"))\n",
        "#calculate the volume of sphere\n",
        "volume=(4/3)*math.pi*pow(r,3)\n",
        "#now printing the output \n",
        "print(\"volume of the sphere will be  %.2f\" %volume)"
      ],
      "execution_count": null,
      "outputs": [
        {
          "output_type": "stream",
          "text": [
            "Enter the r of a sphere6\n",
            "volume of the sphere will be  904.78\n"
          ],
          "name": "stdout"
        }
      ]
    },
    {
      "cell_type": "code",
      "metadata": {
        "id": "j2KENwR__pr_"
      },
      "source": [
        ""
      ],
      "execution_count": null,
      "outputs": []
    }
  ]
}